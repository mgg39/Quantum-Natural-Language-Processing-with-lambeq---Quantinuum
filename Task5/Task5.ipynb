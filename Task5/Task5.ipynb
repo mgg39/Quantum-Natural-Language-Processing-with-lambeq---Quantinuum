{
 "cells": [
  {
   "cell_type": "code",
   "execution_count": 34,
   "metadata": {},
   "outputs": [],
   "source": [
    "import os\n",
    "import warnings\n",
    "\n",
    "warnings.filterwarnings('ignore')\n",
    "os.environ['TOKENIZERS_PARALLELISM'] = 'true'"
   ]
  },
  {
   "cell_type": "code",
   "execution_count": 35,
   "metadata": {},
   "outputs": [],
   "source": [
    "import numpy as np\n",
    "from lambeq import BobcatParser\n",
    "from discopy import grammar\n",
    "from discopy import Dim\n",
    "from lambeq import AtomicType, IQPAnsatz, remove_cups\n",
    "from pytket.extensions.qiskit import AerBackend\n",
    "from lambeq import TketModel\n",
    "from lambeq import QuantumTrainer, SPSAOptimizer\n",
    "from lambeq import Dataset\n",
    "import matplotlib.pyplot as plt"
   ]
  },
  {
   "cell_type": "code",
   "execution_count": 36,
   "metadata": {},
   "outputs": [],
   "source": [
    "BATCH_SIZE = 50\n",
    "EPOCHS = 100\n",
    "SEED = 2"
   ]
  },
  {
   "cell_type": "code",
   "execution_count": 37,
   "metadata": {},
   "outputs": [],
   "source": [
    "#Input data MC1\n",
    "\n",
    "def read_data(filename):\n",
    "    labels, sentences = [], []\n",
    "    with open(filename) as f:\n",
    "        for line in f:\n",
    "            #sentences are split by , in our data set\n",
    "            end_sentence = line.split(\",\")\n",
    "            t = int(end_sentence[2])\n",
    "            labels.append([t, 1-t])\n",
    "            #there are two sentences per associated label\n",
    "            #we need to make sure they are both used\n",
    "            sentences.append(end_sentence[0])\n",
    "            sentences.append(end_sentence[1])\n",
    "    return labels, sentences"
   ]
  },
  {
   "cell_type": "code",
   "execution_count": 38,
   "metadata": {},
   "outputs": [
    {
     "name": "stdout",
     "output_type": "stream",
     "text": [
      "([[1, 0], [1, 0], [0, 1], [1, 0], [1, 0], [1, 0], [1, 0], [1, 0], [1, 0], [0, 1], [0, 1], [0, 1], [0, 1], [1, 0], [0, 1], [1, 0], [0, 1], [0, 1], [1, 0], [1, 0], [1, 0], [1, 0], [1, 0], [1, 0], [0, 1], [1, 0], [1, 0], [1, 0], [1, 0], [0, 1], [1, 0], [0, 1], [0, 1], [1, 0], [1, 0], [1, 0], [1, 0], [0, 1], [1, 0], [1, 0], [0, 1], [1, 0], [0, 1], [0, 1], [1, 0], [1, 0], [0, 1], [0, 1], [0, 1], [1, 0], [0, 1], [1, 0], [1, 0], [0, 1], [1, 0], [1, 0], [0, 1], [0, 1], [0, 1], [1, 0], [0, 1], [0, 1], [1, 0], [0, 1], [1, 0], [0, 1], [0, 1], [0, 1], [1, 0], [0, 1], [0, 1], [1, 0], [1, 0], [0, 1], [1, 0], [1, 0], [0, 1], [1, 0], [0, 1], [0, 1], [0, 1], [1, 0], [1, 0], [0, 1], [1, 0], [1, 0], [1, 0], [0, 1], [0, 1], [0, 1], [1, 0], [1, 0], [0, 1], [0, 1], [0, 1], [0, 1], [0, 1], [0, 1], [1, 0], [1, 0]], ['cook creates complicated dish', ' experienced chef prepares complicated dish', 'skilful programmer creates code', ' devoted hacker writes code', 'skilful cook creates meal', ' devoted hacker creates complicated code', 'hacker writes code', ' skilful hacker creates code', 'devoted hacker writes code', ' hacker writes complicated code', 'skilful programmer creates advanced code', ' skilful hacker writes complicated code', 'experienced cook prepares meal', ' experienced chef prepares meal', 'devoted programmer creates advanced code', ' skilful programmer writes advanced code', 'hacker creates code', ' programmer creates complicated code', 'programmer creates code', ' cook prepares complicated dish', 'chef prepares complicated dish', ' skilful hacker creates code', 'skilful chef creates tasty dish', ' skilful hacker writes code', 'cook creates complicated dish', ' hacker writes code', 'hacker writes code', ' devoted hacker creates code', 'skilful programmer writes advanced code', ' chef prepares tasty dish', 'programmer creates code', ' programmer creates advanced code', 'skilful cook prepares tasty dish', ' hacker creates code', 'chef creates dish', ' programmer writes advanced code', 'experienced chef creates complicated dish', ' experienced chef prepares meal', 'programmer writes code', ' programmer writes code', 'experienced cook creates dish', ' skilful chef creates complicated dish', 'skilful programmer creates code', ' devoted hacker creates complicated code', 'cook creates meal', ' chef prepares complicated dish', 'devoted hacker writes complicated code', ' devoted programmer creates complicated code', 'programmer writes code', ' cook creates tasty dish', 'skilful chef creates tasty meal', ' cook prepares tasty meal', 'cook creates complicated meal', ' cook prepares dish', 'chef prepares meal', ' skilful chef creates tasty dish', 'programmer creates advanced code', ' hacker creates code', 'skilful chef prepares complicated dish', ' skilful programmer writes code', 'chef prepares meal', ' cook creates dish', 'devoted hacker creates complicated code', ' cook creates complicated dish', 'skilful chef creates tasty dish', ' hacker creates code', 'experienced cook prepares tasty dish', ' chef creates complicated dish', 'chef creates meal', ' skilful chef prepares tasty dish', 'experienced chef creates tasty meal', ' cook creates dish', 'chef creates meal', ' experienced cook prepares complicated dish', 'devoted programmer creates complicated code', ' cook prepares tasty dish', 'programmer creates code', ' devoted hacker writes code', 'chef creates tasty meal', ' cook prepares complicated dish', 'hacker creates code', ' skilful chef creates meal', 'skilful chef prepares tasty dish', ' chef prepares tasty dish', 'skilful programmer writes code', ' chef creates meal', 'devoted programmer writes code', ' chef prepares dish', 'experienced chef creates complicated meal', ' skilful cook prepares meal', 'skilful hacker writes code', ' skilful hacker creates complicated code', 'cook creates tasty dish', ' programmer creates advanced code', 'skilful chef prepares tasty meal', ' devoted hacker creates code', 'skilful chef creates tasty meal', ' skilful programmer creates code', 'devoted programmer creates complicated code', ' devoted hacker writes advanced code', 'skilful cook creates complicated dish', ' programmer writes code', 'programmer writes code', ' skilful hacker writes advanced code', 'chef prepares meal', ' skilful cook creates complicated dish', 'cook prepares complicated dish', ' hacker writes advanced code', 'cook prepares complicated meal', ' cook prepares complicated dish', 'programmer writes advanced code', ' hacker writes code', 'devoted hacker writes code', ' experienced cook creates meal', 'hacker creates advanced code', ' chef creates dish', 'chef creates tasty meal', ' skilful programmer writes advanced code', 'cook creates dish', ' experienced cook prepares tasty meal', 'experienced chef prepares meal', ' programmer creates code', 'programmer writes complicated code', ' skilful cook creates tasty dish', 'cook creates meal', ' chef creates dish', 'programmer writes code', ' chef creates tasty dish', 'cook creates dish', ' skilful chef prepares dish', 'hacker creates code', ' cook creates complicated dish', 'chef creates dish', ' programmer creates complicated code', 'experienced cook prepares dish', ' skilful hacker writes code', 'chef prepares meal', ' chef prepares dish', 'hacker writes code', ' cook prepares tasty meal', 'skilful hacker writes code', ' cook creates meal', 'experienced cook creates meal', ' experienced chef creates dish', 'chef prepares complicated dish', ' experienced cook prepares tasty dish', 'skilful chef prepares dish', ' programmer creates complicated code', 'hacker creates advanced code', ' programmer creates code', 'cook prepares meal', ' chef creates meal', 'devoted hacker writes complicated code', ' skilful chef creates dish', 'programmer creates complicated code', ' devoted hacker creates advanced code', 'chef creates complicated meal', ' skilful programmer creates advanced code', 'skilful programmer creates complicated code', ' chef creates meal', 'devoted hacker creates complicated code', ' skilful cook prepares complicated meal', 'chef creates complicated meal', ' cook prepares tasty dish', 'chef prepares tasty meal', ' chef prepares meal', 'programmer writes code', ' cook prepares complicated meal', 'hacker writes advanced code', ' hacker creates code', 'skilful cook creates meal', ' experienced chef creates meal', 'programmer writes advanced code', ' hacker creates advanced code', 'skilful chef creates meal', ' skilful hacker creates advanced code', 'hacker writes advanced code', ' chef creates dish', 'programmer creates code', ' cook creates dish', 'experienced chef prepares complicated dish', ' skilful cook creates meal', 'skilful cook creates meal', ' chef prepares dish', 'programmer writes code', ' chef creates meal', 'programmer creates complicated code', ' skilful cook prepares tasty meal', 'experienced cook creates dish', ' programmer writes code', 'skilful programmer writes advanced code', ' skilful cook prepares meal', 'programmer creates code', ' chef creates dish', 'hacker creates code', ' chef prepares dish', 'skilful programmer creates complicated code', ' programmer writes complicated code', 'experienced cook creates dish', ' skilful chef creates dish'])\n"
     ]
    }
   ],
   "source": [
    "#Testing\n",
    "print(read_data('MC1.TXT'))"
   ]
  },
  {
   "cell_type": "code",
   "execution_count": 39,
   "metadata": {},
   "outputs": [],
   "source": [
    "#we will use 15% of the data as a training set\n",
    "labels, data = read_data('MC1.TXT')\n",
    "train_labels, train_data = labels[0:15] , data[0:15]\n",
    "test_labels, test_data = labels[15:100] , data[15:100]"
   ]
  },
  {
   "cell_type": "code",
   "execution_count": 40,
   "metadata": {},
   "outputs": [
    {
     "name": "stderr",
     "output_type": "stream",
     "text": [
      "Tagging sentences.\n",
      "Parsing tagged sentences.\n",
      "Turning parse trees to diagrams.\n",
      "Tagging sentences.\n",
      "Parsing tagged sentences.\n",
      "Turning parse trees to diagrams.\n"
     ]
    }
   ],
   "source": [
    "#Parser\n",
    "parser = BobcatParser(root_cats=('NP', 'N'), verbose='text')\n",
    "train_diagrams = parser.sentences2diagrams(train_data, suppress_exceptions=True)\n",
    "test_diagrams = parser.sentences2diagrams(test_data, suppress_exceptions=True)\n"
   ]
  },
  {
   "cell_type": "code",
   "execution_count": 41,
   "metadata": {},
   "outputs": [],
   "source": [
    "train_diagrams = [\n",
    "    diagram.normal_form()\n",
    "    for diagram in train_diagrams if diagram is not None]\n",
    "test_diagrams = [\n",
    "    diagram.normal_form()\n",
    "    for diagram in test_diagrams if diagram is not None]\n",
    "\n",
    "train_labels = [\n",
    "    label for (diagram, label)\n",
    "    in zip(train_diagrams, train_labels)\n",
    "    if diagram is not None]\n",
    "test_labels = [\n",
    "    label for (diagram, label)\n",
    "    in zip(test_diagrams, test_labels)\n",
    "    if diagram is not None]"
   ]
  },
  {
   "cell_type": "code",
   "execution_count": 42,
   "metadata": {},
   "outputs": [],
   "source": [
    "#Circuits\n",
    "ansatz = IQPAnsatz({AtomicType.NOUN: 1, AtomicType.SENTENCE: 0},\n",
    "                   n_layers=1, n_single_qubit_params=3)\n",
    "\n",
    "train_circuits = [ansatz(remove_cups(diagram)) for diagram in train_diagrams]\n",
    "test_circuits =  [ansatz(remove_cups(diagram))  for diagram in test_diagrams]\n"
   ]
  },
  {
   "cell_type": "code",
   "execution_count": 45,
   "metadata": {},
   "outputs": [
    {
     "data": {
      "text/html": [
       "\n",
       "\n",
       "\n",
       "\n",
       "\n",
       "\n",
       "<iframe srcdoc=\"\n",
       "&lt;!DOCTYPE html&gt;\n",
       "&lt;html lang=&#34;en&#34;&gt;\n",
       "&lt;head&gt;\n",
       "    &lt;meta charset=&#34;UTF-8&#34;&gt;\n",
       "\n",
       "    &lt;script type=&#34;application/javascript&#34; src=&#34;https://cdn.jsdelivr.net/npm/vue@3&#34;&gt;&lt;/script&gt;\n",
       "    &lt;script type=&#34;application/javascript&#34; src=&#34;https://unpkg.com/pytket-circuit-renderer@0.2/dist/pytket-circuit-renderer.umd.js&#34;&gt;&lt;/script&gt;\n",
       "    &lt;link rel=&#34;stylesheet&#34; href=&#34;https://unpkg.com/pytket-circuit-renderer@0.2/dist/pytket-circuit-renderer.css&#34;&gt;\n",
       "&lt;/head&gt;\n",
       "&lt;body&gt;\n",
       "    &lt;div id=&#34;circuit-display-vue-container-dec33198-29fb-417a-9f08-fbc2f362a819&#34; class=&#34;pytket-circuit-display-container&#34;&gt;\n",
       "        &lt;div style=&#34;display: none&#34;&gt;\n",
       "            &lt;div id=&#34;circuit-json-to-display&#34;&gt;{&#34;bits&#34;: [[&#34;c&#34;, [0]], [&#34;c&#34;, [1]], [&#34;c&#34;, [2]], [&#34;c&#34;, [3]], [&#34;c&#34;, [4]], [&#34;c&#34;, [5]], [&#34;c&#34;, [6]]], &#34;commands&#34;: [{&#34;args&#34;: [[&#34;q&#34;, [0]]], &#34;op&#34;: {&#34;type&#34;: &#34;H&#34;}}, {&#34;args&#34;: [[&#34;q&#34;, [1]]], &#34;op&#34;: {&#34;type&#34;: &#34;H&#34;}}, {&#34;args&#34;: [[&#34;q&#34;, [2]]], &#34;op&#34;: {&#34;type&#34;: &#34;H&#34;}}, {&#34;args&#34;: [[&#34;q&#34;, [3]]], &#34;op&#34;: {&#34;type&#34;: &#34;H&#34;}}, {&#34;args&#34;: [[&#34;q&#34;, [4]]], &#34;op&#34;: {&#34;type&#34;: &#34;H&#34;}}, {&#34;args&#34;: [[&#34;q&#34;, [5]]], &#34;op&#34;: {&#34;type&#34;: &#34;H&#34;}}, {&#34;args&#34;: [[&#34;q&#34;, [6]]], &#34;op&#34;: {&#34;params&#34;: [&#34;2*code__n_0&#34;], &#34;type&#34;: &#34;Rx&#34;}}, {&#34;args&#34;: [[&#34;q&#34;, [7]]], &#34;op&#34;: {&#34;type&#34;: &#34;H&#34;}}, {&#34;args&#34;: [[&#34;q&#34;, [0]], [&#34;q&#34;, [7]]], &#34;op&#34;: {&#34;params&#34;: [&#34;2*devoted__n@n.l_0&#34;], &#34;type&#34;: &#34;CRz&#34;}}, {&#34;args&#34;: [[&#34;q&#34;, [1]], [&#34;q&#34;, [2]]], &#34;op&#34;: {&#34;params&#34;: [&#34;2*creates__n.r@n@n.l_0&#34;], &#34;type&#34;: &#34;CRz&#34;}}, {&#34;args&#34;: [[&#34;q&#34;, [4]], [&#34;q&#34;, [5]]], &#34;op&#34;: {&#34;params&#34;: [&#34;2*advanced__n@n.l_0&#34;], &#34;type&#34;: &#34;CRz&#34;}}, {&#34;args&#34;: [[&#34;q&#34;, [6]]], &#34;op&#34;: {&#34;params&#34;: [&#34;2*code__n_1&#34;], &#34;type&#34;: &#34;Rz&#34;}}, {&#34;args&#34;: [[&#34;q&#34;, [0]], [&#34;q&#34;, [1]]], &#34;op&#34;: {&#34;type&#34;: &#34;CX&#34;}}, {&#34;args&#34;: [[&#34;q&#34;, [2]], [&#34;q&#34;, [3]]], &#34;op&#34;: {&#34;params&#34;: [&#34;2*creates__n.r@n@n.l_1&#34;], &#34;type&#34;: &#34;CRz&#34;}}, {&#34;args&#34;: [[&#34;q&#34;, [6]]], &#34;op&#34;: {&#34;params&#34;: [&#34;2*code__n_2&#34;], &#34;type&#34;: &#34;Rx&#34;}}, {&#34;args&#34;: [[&#34;q&#34;, [7]]], &#34;op&#34;: {&#34;params&#34;: [&#34;2*programmer__n_2&#34;], &#34;type&#34;: &#34;Rx&#34;}}, {&#34;args&#34;: [[&#34;q&#34;, [1]], [&#34;c&#34;, [1]]], &#34;op&#34;: {&#34;type&#34;: &#34;Measure&#34;}}, {&#34;args&#34;: [[&#34;q&#34;, [0]]], &#34;op&#34;: {&#34;type&#34;: &#34;H&#34;}}, {&#34;args&#34;: [[&#34;q&#34;, [3]], [&#34;q&#34;, [4]]], &#34;op&#34;: {&#34;type&#34;: &#34;CX&#34;}}, {&#34;args&#34;: [[&#34;q&#34;, [5]], [&#34;q&#34;, [6]]], &#34;op&#34;: {&#34;type&#34;: &#34;CX&#34;}}, {&#34;args&#34;: [[&#34;q&#34;, [7]]], &#34;op&#34;: {&#34;params&#34;: [&#34;2*programmer__n_1&#34;], &#34;type&#34;: &#34;Rz&#34;}}, {&#34;args&#34;: [[&#34;q&#34;, [0]], [&#34;c&#34;, [0]]], &#34;op&#34;: {&#34;type&#34;: &#34;Measure&#34;}}, {&#34;args&#34;: [[&#34;q&#34;, [4]], [&#34;c&#34;, [3]]], &#34;op&#34;: {&#34;type&#34;: &#34;Measure&#34;}}, {&#34;args&#34;: [[&#34;q&#34;, [6]], [&#34;c&#34;, [5]]], &#34;op&#34;: {&#34;type&#34;: &#34;Measure&#34;}}, {&#34;args&#34;: [[&#34;q&#34;, [3]]], &#34;op&#34;: {&#34;type&#34;: &#34;H&#34;}}, {&#34;args&#34;: [[&#34;q&#34;, [5]]], &#34;op&#34;: {&#34;type&#34;: &#34;H&#34;}}, {&#34;args&#34;: [[&#34;q&#34;, [7]]], &#34;op&#34;: {&#34;params&#34;: [&#34;2*programmer__n_0&#34;], &#34;type&#34;: &#34;Rx&#34;}}, {&#34;args&#34;: [[&#34;q&#34;, [3]], [&#34;c&#34;, [2]]], &#34;op&#34;: {&#34;type&#34;: &#34;Measure&#34;}}, {&#34;args&#34;: [[&#34;q&#34;, [5]], [&#34;c&#34;, [4]]], &#34;op&#34;: {&#34;type&#34;: &#34;Measure&#34;}}, {&#34;args&#34;: [[&#34;q&#34;, [7]], [&#34;c&#34;, [6]]], &#34;op&#34;: {&#34;type&#34;: &#34;Measure&#34;}}], &#34;implicit_permutation&#34;: [[[&#34;q&#34;, [0]], [&#34;q&#34;, [0]]], [[&#34;q&#34;, [1]], [&#34;q&#34;, [1]]], [[&#34;q&#34;, [2]], [&#34;q&#34;, [2]]], [[&#34;q&#34;, [3]], [&#34;q&#34;, [3]]], [[&#34;q&#34;, [4]], [&#34;q&#34;, [4]]], [[&#34;q&#34;, [5]], [&#34;q&#34;, [5]]], [[&#34;q&#34;, [6]], [&#34;q&#34;, [6]]], [[&#34;q&#34;, [7]], [&#34;q&#34;, [7]]]], &#34;phase&#34;: &#34;0.0&#34;, &#34;qubits&#34;: [[&#34;q&#34;, [0]], [&#34;q&#34;, [1]], [&#34;q&#34;, [2]], [&#34;q&#34;, [3]], [&#34;q&#34;, [4]], [&#34;q&#34;, [5]], [&#34;q&#34;, [6]], [&#34;q&#34;, [7]]]}&lt;/div&gt;\n",
       "        &lt;/div&gt;\n",
       "        &lt;circuit-display-container :circuit-element-str=&#34;&#39;#circuit-json-to-display&#39;&#34;&gt;&lt;/circuit-display-container&gt;\n",
       "    &lt;/div&gt;\n",
       "\n",
       "    &lt;script type=&#34;application/javascript&#34;&gt;\n",
       "        const { createApp } = Vue;\n",
       "        const circuitDisplayContainer = window[&#34;pytket-circuit-renderer&#34;].default;\n",
       "\n",
       "        // Init variables to be shared between circuit display instances\n",
       "        if (typeof window.pytketCircuitDisplays === &#34;undefined&#34;) {\n",
       "            window.pytketCircuitDisplays = {};\n",
       "        }\n",
       "\n",
       "        const uid = &#34;dec33198-29fb-417a-9f08-fbc2f362a819&#34;;\n",
       "\n",
       "        // Create the root Vue component\n",
       "        window.pytketCircuitDisplays[uid] = createApp({\n",
       "            delimiters: [&#39;[[#&#39;, &#39;#]]&#39;],\n",
       "            components: { circuitDisplayContainer },\n",
       "        }).mount(&#34;#circuit-display-vue-container-&#34;+uid);\n",
       "    &lt;/script&gt;\n",
       "&lt;/body&gt;\n",
       "&lt;/html&gt;\n",
       "\"\n",
       "        width=\"100%\" height=\"200px\"\n",
       "        style=\"border: none; outline: none; resize: vertical; overflow: auto\"></iframe>\n",
       "\n"
      ],
      "text/plain": [
       "<IPython.core.display.HTML object>"
      ]
     },
     "metadata": {},
     "output_type": "display_data"
    }
   ],
   "source": [
    "#render circuits\n",
    "from pytket.circuit.display import render_circuit_jupyter\n",
    "\n",
    "render_circuit_jupyter(train_circuits[14].to_tk())\n"
   ]
  },
  {
   "cell_type": "code",
   "execution_count": null,
   "metadata": {},
   "outputs": [],
   "source": []
  }
 ],
 "metadata": {
  "kernelspec": {
   "display_name": "Python 3.10.4 64-bit",
   "language": "python",
   "name": "python3"
  },
  "language_info": {
   "codemirror_mode": {
    "name": "ipython",
    "version": 3
   },
   "file_extension": ".py",
   "mimetype": "text/x-python",
   "name": "python",
   "nbconvert_exporter": "python",
   "pygments_lexer": "ipython3",
   "version": "3.10.4"
  },
  "orig_nbformat": 4,
  "vscode": {
   "interpreter": {
    "hash": "e7370f93d1d0cde622a1f8e1c04877d8463912d04d973331ad4851f04de6915a"
   }
  }
 },
 "nbformat": 4,
 "nbformat_minor": 2
}
