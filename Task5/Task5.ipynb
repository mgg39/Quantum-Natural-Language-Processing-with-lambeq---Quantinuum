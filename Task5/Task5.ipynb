{
 "cells": [
  {
   "cell_type": "code",
   "execution_count": 1,
   "metadata": {},
   "outputs": [],
   "source": [
    "import os\n",
    "import warnings\n",
    "\n",
    "warnings.filterwarnings('ignore')\n",
    "os.environ['TOKENIZERS_PARALLELISM'] = 'true'"
   ]
  },
  {
   "cell_type": "code",
   "execution_count": 2,
   "metadata": {},
   "outputs": [
    {
     "name": "stderr",
     "output_type": "stream",
     "text": [
      "2022-08-23 14:00:45.311305: I tensorflow/core/platform/cpu_feature_guard.cc:193] This TensorFlow binary is optimized with oneAPI Deep Neural Network Library (oneDNN) to use the following CPU instructions in performance-critical operations:  AVX2 FMA\n",
      "To enable them in other operations, rebuild TensorFlow with the appropriate compiler flags.\n",
      "2022-08-23 14:00:47.670256: W tensorflow/stream_executor/platform/default/dso_loader.cc:64] Could not load dynamic library 'libcudart.so.11.0'; dlerror: libcudart.so.11.0: cannot open shared object file: No such file or directory\n",
      "2022-08-23 14:00:47.670277: I tensorflow/stream_executor/cuda/cudart_stub.cc:29] Ignore above cudart dlerror if you do not have a GPU set up on your machine.\n"
     ]
    },
    {
     "name": "stdout",
     "output_type": "stream",
     "text": [
      "WARNING:tensorflow:Please fix your imports. Module tensorflow.python.training.tracking.base has been moved to tensorflow.python.trackable.base. The old module will be deleted in version 2.11.\n",
      "WARNING:tensorflow:Please fix your imports. Module tensorflow.python.training.checkpoint_management has been moved to tensorflow.python.checkpoint.checkpoint_management. The old module will be deleted in version 2.9.\n",
      "WARNING:tensorflow:Please fix your imports. Module tensorflow.python.training.tracking.resource has been moved to tensorflow.python.trackable.resource. The old module will be deleted in version 2.11.\n",
      "WARNING:tensorflow:Please fix your imports. Module tensorflow.python.training.tracking.util has been moved to tensorflow.python.checkpoint.checkpoint. The old module will be deleted in version 2.11.\n",
      "WARNING:tensorflow:Please fix your imports. Module tensorflow.python.training.tracking.base_delegate has been moved to tensorflow.python.trackable.base_delegate. The old module will be deleted in version 2.11.\n",
      "WARNING:tensorflow:Please fix your imports. Module tensorflow.python.training.tracking.graph_view has been moved to tensorflow.python.checkpoint.graph_view. The old module will be deleted in version 2.11.\n",
      "WARNING:tensorflow:Please fix your imports. Module tensorflow.python.training.tracking.python_state has been moved to tensorflow.python.trackable.python_state. The old module will be deleted in version 2.11.\n",
      "WARNING:tensorflow:Please fix your imports. Module tensorflow.python.training.saving.functional_saver has been moved to tensorflow.python.checkpoint.functional_saver. The old module will be deleted in version 2.11.\n"
     ]
    },
    {
     "name": "stderr",
     "output_type": "stream",
     "text": [
      "WARNING:tensorflow:Please fix your imports. Module tensorflow.python.training.saving.functional_saver has been moved to tensorflow.python.checkpoint.functional_saver. The old module will be deleted in version 2.11.\n"
     ]
    },
    {
     "name": "stdout",
     "output_type": "stream",
     "text": [
      "WARNING:tensorflow:Please fix your imports. Module tensorflow.python.training.saving.checkpoint_options has been moved to tensorflow.python.checkpoint.checkpoint_options. The old module will be deleted in version 2.11.\n"
     ]
    },
    {
     "name": "stderr",
     "output_type": "stream",
     "text": [
      "WARNING:tensorflow:Please fix your imports. Module tensorflow.python.training.saving.checkpoint_options has been moved to tensorflow.python.checkpoint.checkpoint_options. The old module will be deleted in version 2.11.\n",
      "2022-08-23 14:01:04.488868: W tensorflow/stream_executor/platform/default/dso_loader.cc:64] Could not load dynamic library 'libcuda.so.1'; dlerror: libcuda.so.1: cannot open shared object file: No such file or directory\n",
      "2022-08-23 14:01:04.493597: W tensorflow/stream_executor/cuda/cuda_driver.cc:269] failed call to cuInit: UNKNOWN ERROR (303)\n",
      "2022-08-23 14:01:04.493618: I tensorflow/stream_executor/cuda/cuda_diagnostics.cc:156] kernel driver does not appear to be running on this host (maria-pc): /proc/driver/nvidia/version does not exist\n"
     ]
    }
   ],
   "source": [
    "import numpy as np\n",
    "\n",
    "import matplotlib.pyplot as plt\n",
    "\n",
    "from lambeq import BobcatParser\n",
    "from lambeq import AtomicType, IQPAnsatz, remove_cups, SpiderAnsatz\n",
    "from lambeq import TketModel\n",
    "from lambeq import QuantumTrainer, SPSAOptimizer\n",
    "from lambeq import Dataset\n",
    "\n",
    "from discopy import grammar\n",
    "from discopy import Dim\n",
    "\n",
    "from pytket.extensions.qiskit import AerBackend\n",
    "from pytket.circuit.display import render_circuit_jupyter\n",
    "\n",
    "from jax import jit, grad\n",
    "\n",
    "from sympy import default_sort_key\n"
   ]
  },
  {
   "cell_type": "code",
   "execution_count": 3,
   "metadata": {},
   "outputs": [],
   "source": [
    "BATCH_SIZE = 50\n",
    "EPOCHS = 10\n",
    "SEED = 2"
   ]
  },
  {
   "cell_type": "code",
   "execution_count": 4,
   "metadata": {},
   "outputs": [],
   "source": [
    "#Input data MC1\n",
    "\n",
    "def read_data(filename):\n",
    "    labels, sentences = [], []\n",
    "    with open(filename) as f:\n",
    "        for line in f:\n",
    "            #sentences are split by , in our data set\n",
    "            end_sentence = line.split(\",\")\n",
    "            t = int(end_sentence[2])\n",
    "            labels.append([t, 1-t])\n",
    "            #there are two sentences per associated label\n",
    "            #we need to make sure they are both used\n",
    "            sentences.append(end_sentence[0])\n",
    "            sentences.append(end_sentence[1])\n",
    "    return labels, sentences"
   ]
  },
  {
   "cell_type": "code",
   "execution_count": 5,
   "metadata": {},
   "outputs": [
    {
     "name": "stdout",
     "output_type": "stream",
     "text": [
      "([[1, 0], [1, 0], [0, 1], [1, 0], [1, 0], [1, 0], [1, 0], [1, 0], [1, 0], [0, 1], [0, 1], [0, 1], [0, 1], [1, 0], [0, 1], [1, 0], [0, 1], [0, 1], [1, 0], [1, 0], [1, 0], [1, 0], [1, 0], [1, 0], [0, 1], [1, 0], [1, 0], [1, 0], [1, 0], [0, 1], [1, 0], [0, 1], [0, 1], [1, 0], [1, 0], [1, 0], [1, 0], [0, 1], [1, 0], [1, 0], [0, 1], [1, 0], [0, 1], [0, 1], [1, 0], [1, 0], [0, 1], [0, 1], [0, 1], [1, 0], [0, 1], [1, 0], [1, 0], [0, 1], [1, 0], [1, 0], [0, 1], [0, 1], [0, 1], [1, 0], [0, 1], [0, 1], [1, 0], [0, 1], [1, 0], [0, 1], [0, 1], [0, 1], [1, 0], [0, 1], [0, 1], [1, 0], [1, 0], [0, 1], [1, 0], [1, 0], [0, 1], [1, 0], [0, 1], [0, 1], [0, 1], [1, 0], [1, 0], [0, 1], [1, 0], [1, 0], [1, 0], [0, 1], [0, 1], [0, 1], [1, 0], [1, 0], [0, 1], [0, 1], [0, 1], [0, 1], [0, 1], [0, 1], [1, 0], [1, 0]], ['cook creates complicated dish', ' experienced chef prepares complicated dish', 'skilful programmer creates code', ' devoted hacker writes code', 'skilful cook creates meal', ' devoted hacker creates complicated code', 'hacker writes code', ' skilful hacker creates code', 'devoted hacker writes code', ' hacker writes complicated code', 'skilful programmer creates advanced code', ' skilful hacker writes complicated code', 'experienced cook prepares meal', ' experienced chef prepares meal', 'devoted programmer creates advanced code', ' skilful programmer writes advanced code', 'hacker creates code', ' programmer creates complicated code', 'programmer creates code', ' cook prepares complicated dish', 'chef prepares complicated dish', ' skilful hacker creates code', 'skilful chef creates tasty dish', ' skilful hacker writes code', 'cook creates complicated dish', ' hacker writes code', 'hacker writes code', ' devoted hacker creates code', 'skilful programmer writes advanced code', ' chef prepares tasty dish', 'programmer creates code', ' programmer creates advanced code', 'skilful cook prepares tasty dish', ' hacker creates code', 'chef creates dish', ' programmer writes advanced code', 'experienced chef creates complicated dish', ' experienced chef prepares meal', 'programmer writes code', ' programmer writes code', 'experienced cook creates dish', ' skilful chef creates complicated dish', 'skilful programmer creates code', ' devoted hacker creates complicated code', 'cook creates meal', ' chef prepares complicated dish', 'devoted hacker writes complicated code', ' devoted programmer creates complicated code', 'programmer writes code', ' cook creates tasty dish', 'skilful chef creates tasty meal', ' cook prepares tasty meal', 'cook creates complicated meal', ' cook prepares dish', 'chef prepares meal', ' skilful chef creates tasty dish', 'programmer creates advanced code', ' hacker creates code', 'skilful chef prepares complicated dish', ' skilful programmer writes code', 'chef prepares meal', ' cook creates dish', 'devoted hacker creates complicated code', ' cook creates complicated dish', 'skilful chef creates tasty dish', ' hacker creates code', 'experienced cook prepares tasty dish', ' chef creates complicated dish', 'chef creates meal', ' skilful chef prepares tasty dish', 'experienced chef creates tasty meal', ' cook creates dish', 'chef creates meal', ' experienced cook prepares complicated dish', 'devoted programmer creates complicated code', ' cook prepares tasty dish', 'programmer creates code', ' devoted hacker writes code', 'chef creates tasty meal', ' cook prepares complicated dish', 'hacker creates code', ' skilful chef creates meal', 'skilful chef prepares tasty dish', ' chef prepares tasty dish', 'skilful programmer writes code', ' chef creates meal', 'devoted programmer writes code', ' chef prepares dish', 'experienced chef creates complicated meal', ' skilful cook prepares meal', 'skilful hacker writes code', ' skilful hacker creates complicated code', 'cook creates tasty dish', ' programmer creates advanced code', 'skilful chef prepares tasty meal', ' devoted hacker creates code', 'skilful chef creates tasty meal', ' skilful programmer creates code', 'devoted programmer creates complicated code', ' devoted hacker writes advanced code', 'skilful cook creates complicated dish', ' programmer writes code', 'programmer writes code', ' skilful hacker writes advanced code', 'chef prepares meal', ' skilful cook creates complicated dish', 'cook prepares complicated dish', ' hacker writes advanced code', 'cook prepares complicated meal', ' cook prepares complicated dish', 'programmer writes advanced code', ' hacker writes code', 'devoted hacker writes code', ' experienced cook creates meal', 'hacker creates advanced code', ' chef creates dish', 'chef creates tasty meal', ' skilful programmer writes advanced code', 'cook creates dish', ' experienced cook prepares tasty meal', 'experienced chef prepares meal', ' programmer creates code', 'programmer writes complicated code', ' skilful cook creates tasty dish', 'cook creates meal', ' chef creates dish', 'programmer writes code', ' chef creates tasty dish', 'cook creates dish', ' skilful chef prepares dish', 'hacker creates code', ' cook creates complicated dish', 'chef creates dish', ' programmer creates complicated code', 'experienced cook prepares dish', ' skilful hacker writes code', 'chef prepares meal', ' chef prepares dish', 'hacker writes code', ' cook prepares tasty meal', 'skilful hacker writes code', ' cook creates meal', 'experienced cook creates meal', ' experienced chef creates dish', 'chef prepares complicated dish', ' experienced cook prepares tasty dish', 'skilful chef prepares dish', ' programmer creates complicated code', 'hacker creates advanced code', ' programmer creates code', 'cook prepares meal', ' chef creates meal', 'devoted hacker writes complicated code', ' skilful chef creates dish', 'programmer creates complicated code', ' devoted hacker creates advanced code', 'chef creates complicated meal', ' skilful programmer creates advanced code', 'skilful programmer creates complicated code', ' chef creates meal', 'devoted hacker creates complicated code', ' skilful cook prepares complicated meal', 'chef creates complicated meal', ' cook prepares tasty dish', 'chef prepares tasty meal', ' chef prepares meal', 'programmer writes code', ' cook prepares complicated meal', 'hacker writes advanced code', ' hacker creates code', 'skilful cook creates meal', ' experienced chef creates meal', 'programmer writes advanced code', ' hacker creates advanced code', 'skilful chef creates meal', ' skilful hacker creates advanced code', 'hacker writes advanced code', ' chef creates dish', 'programmer creates code', ' cook creates dish', 'experienced chef prepares complicated dish', ' skilful cook creates meal', 'skilful cook creates meal', ' chef prepares dish', 'programmer writes code', ' chef creates meal', 'programmer creates complicated code', ' skilful cook prepares tasty meal', 'experienced cook creates dish', ' programmer writes code', 'skilful programmer writes advanced code', ' skilful cook prepares meal', 'programmer creates code', ' chef creates dish', 'hacker creates code', ' chef prepares dish', 'skilful programmer creates complicated code', ' programmer writes complicated code', 'experienced cook creates dish', ' skilful chef creates dish'])\n"
     ]
    }
   ],
   "source": [
    "#Testing\n",
    "print(read_data('MC1.TXT'))"
   ]
  },
  {
   "cell_type": "code",
   "execution_count": 7,
   "metadata": {},
   "outputs": [],
   "source": [
    "#we will use 15% of the data as a training set\n",
    "labels, data = read_data('MC1.TXT')\n",
    "train_labels, train_data = labels[0:15] , data[0:15]\n",
    "test_labels, test_data = labels[15:100] , data[15:100]"
   ]
  },
  {
   "cell_type": "code",
   "execution_count": 8,
   "metadata": {},
   "outputs": [
    {
     "name": "stderr",
     "output_type": "stream",
     "text": [
      "Tagging sentences.\n",
      "Parsing tagged sentences.\n",
      "Turning parse trees to diagrams.\n",
      "Tagging sentences.\n",
      "Parsing tagged sentences.\n",
      "Turning parse trees to diagrams.\n"
     ]
    }
   ],
   "source": [
    "#Parser\n",
    "parser = BobcatParser(root_cats=('NP', 'N'), verbose='text')\n",
    "train_diagrams = parser.sentences2diagrams(train_data, suppress_exceptions=True)\n",
    "test_diagrams = parser.sentences2diagrams(test_data, suppress_exceptions=True)\n"
   ]
  },
  {
   "cell_type": "code",
   "execution_count": 9,
   "metadata": {},
   "outputs": [],
   "source": [
    "\n",
    "train_diagrams = [\n",
    "    diagram.normal_form()\n",
    "    for diagram in train_diagrams if diagram is not None]\n",
    "test_diagrams = [\n",
    "    diagram.normal_form()\n",
    "    for diagram in test_diagrams if diagram is not None]\n",
    "\n",
    "train_labels = [\n",
    "    label for (diagram, label)\n",
    "    in zip(train_diagrams, train_labels)\n",
    "    if diagram is not None]\n",
    "test_labels = [\n",
    "    label for (diagram, label)\n",
    "    in zip(test_diagrams, test_labels)\n",
    "    if diagram is not None]\n"
   ]
  },
  {
   "cell_type": "code",
   "execution_count": 10,
   "metadata": {},
   "outputs": [],
   "source": [
    "#Circuits\n",
    "\n",
    "ansatz = IQPAnsatz({AtomicType.NOUN: 1, AtomicType.SENTENCE: 0},\n",
    "                   n_layers=1, n_single_qubit_params=3)\n",
    "\n",
    "train_circuits = [ansatz(remove_cups(diagram)) for diagram in train_diagrams]\n",
    "test_circuits =  [ansatz(remove_cups(diagram))  for diagram in test_diagrams]\n"
   ]
  },
  {
   "cell_type": "code",
   "execution_count": 11,
   "metadata": {},
   "outputs": [
    {
     "data": {
      "image/png": "[encoded data removed]",
      "text/plain": [
       "<Figure size 576x288 with 1 Axes>"
      ]
     },
     "metadata": {},
     "output_type": "display_data"
    }
   ],
   "source": [
    "# Create ansatz and convert to tensor diagrams\n",
    "\n",
    "N = AtomicType.NOUN\n",
    "S = AtomicType.SENTENCE\n",
    "\n",
    "# Create an ansatz by assigning 2 dimensions to both\n",
    "# noun and sentence spaces\n",
    "ansatz = SpiderAnsatz({N: Dim(2), S: Dim(2)})\n",
    "\n",
    "train_circuits = [ansatz(d) for d in train_diagrams]\n",
    "test_circuits = [ansatz(d) for d in test_diagrams]\n",
    "\n",
    "all_circuits = train_circuits + test_circuits\n",
    "\n",
    "all_circuits[0].draw(figsize=(8,4), fontsize=13)"
   ]
  },
  {
   "cell_type": "code",
   "execution_count": null,
   "metadata": {},
   "outputs": [],
   "source": []
  },
  {
   "cell_type": "code",
   "execution_count": 177,
   "metadata": {},
   "outputs": [
    {
     "data": {
      "text/plain": [
       "'\\nall_circuits = train_circuits + test_circuits\\n\\nbackend = AerBackend()\\nbackend_config = {\\n    \\'backend\\': backend,\\n    \\'compilation\\': backend.default_compilation_pass(2),\\n    \\'shots\\': 8192\\n}\\n\\n\\'\\'\\'\\n#Standart model\\nmodel = TketModel.from_diagrams(all_circuits, backend_config=backend_config)\\n\\'\\'\\'\\n\\nclass MyCustomModel():\\n    def __init__(self):\\n        super().__init__()\\n        self.net = torch.nn.Linear(2, 2)\\n\\n    def forward(self, input):\\n        food_circuits = []\\n        code_circuits = []\\n        food_data = []\\n        code_data = []\\n        #training data\\n        training_tags = [0,0,1,1,0,1,1,1,1,1,1,1,0,0,1]\\n        for i in range(np.size(input_training)):\\n            if training_tags[i] == 0:\\n                food_circuits.append(train_circuits[i])\\n                food_data.append(input_training[i])\\n            elif training_tags[i] == 1:\\n                code_circuits.append(train_circuits[i])\\n                code_data.append(input_training[i])\\n            else:\\n                print(\"ERROR: non recognised training data\")\\n\\n        #model results associated with key words\\n        food_keywords = [\\'chef\\',\\'dish\\',\\'meal\\',\\'tasty\\',\\'prepares\\']\\n        code_keywords = [\\'programmer\\',\\'code\\',\\'hacker\\',\\'writes\\']\\n        forward_key_words = []\\n\\n        for i in range(np.size(input_testing)):\\n        \\n            words = [word for word in input_testing[i].split()]\\n\\n            for l in words:\\n                for j in food_keywords:\\n                    if l == j:\\n                        forward_key_words.append(0)\\n                for k in code_keywords:\\n                    if l == k:\\n                        forward_key_words.append(1)\\n        \\n        #model results associated with circuit formats\\n        food_circuits = []\\n        code_circuits = []\\n        forward_circuit_formats = []\\n\\n        \\n        #model associated with data similarities     \\n        food_data = []\\n        code_data = []\\n        forward_data = []\\n        \\n        return forward_key_words\\n\\ncustom_model = MyCustomModel\\n'"
      ]
     },
     "execution_count": 177,
     "metadata": {},
     "output_type": "execute_result"
    }
   ],
   "source": [
    "#Model\n",
    "\n",
    "backend = AerBackend()\n",
    "backend_config = {\n",
    "    'backend': backend,\n",
    "    'compilation': backend.default_compilation_pass(2),\n",
    "    'shots': 8192\n",
    "}\n",
    "\n",
    "class MyCustomModel(input_training,input_testing,train_circuits,test_circuits):\n",
    "    def __init__(self):\n",
    "        super().__init__()\n",
    "        self.net = torch.nn.Linear(2, 2)\n",
    "    \n",
    "    def training(self,input_training)\n",
    "        training_tags = []\n",
    "        food_keywords = ['chef','dish','meal','tasty','prepares']\n",
    "        code_keywords = ['programmer','code','hacker','writes']\n",
    "\n",
    "        for i in range(np.size(input_training)):\n",
    "            words = [word for word in input_training[i].split()]\n",
    "            for l in words:\n",
    "                for j in food_keywords:\n",
    "                    if l == j:\n",
    "                        training_tags.append(0)\n",
    "                for k in code_keywords:\n",
    "                    if l == k:\n",
    "                        training_tags.append(1)\n",
    "        return training_tags\n",
    "    #I expect them to be: training_tags = [0,0,1,1,0,1,1,1,1,1,1,1,0,0,1]\n",
    "\n",
    "    def forward(self, input):\n",
    "        \n",
    "        #model results associated with circuit formats\n",
    "        food_circuits = []\n",
    "        code_circuits = []\n",
    "        forward_circuit = []\n",
    "\n",
    "\n",
    "        #model associated with data similarities     \n",
    "        food_data = []\n",
    "        code_data = []\n",
    "        forward_data = []\n",
    "\n",
    "\n",
    "        \n",
    "        return forward_circuit,forward_data\n",
    "\n",
    "custom_model = MyCustomModel\n"
   ]
  },
  {
   "cell_type": "code",
   "execution_count": 178,
   "metadata": {},
   "outputs": [
    {
     "data": {
      "text/plain": [
       "array([0.94382759, 0.68678337, 0.28757538, 0.76899892])"
      ]
     },
     "execution_count": 178,
     "metadata": {},
     "output_type": "execute_result"
    }
   ],
   "source": [
    "# Create vocabulary\n",
    "all_circuits = train_circuits + test_circuits\n",
    "\n",
    "vocab = sorted(\n",
    "   {sym for circ in all_circuits for sym in circ.free_symbols},\n",
    "    key=default_sort_key\n",
    ")\n",
    "tensors = [np.random.rand(w.size) for w in vocab]\n",
    "\n",
    "tensors[0]"
   ]
  },
  {
   "cell_type": "code",
   "execution_count": 179,
   "metadata": {},
   "outputs": [],
   "source": [
    "#Loss & eval metrics\n",
    "def sigmoid(x):\n",
    "    return 1 / (1 + np.exp(-x))\n",
    "\n",
    "def loss(tensors):\n",
    "    # Lambdify\n",
    "    np_circuits = [c.lambdify(*vocab)(*tensors) for c in train_circuits]\n",
    "    # Compute predictions\n",
    "    predictions =  sigmoid(np.array([c.eval().array for c in np_circuits]))\n",
    "\n",
    "    # binary cross-entropy loss\n",
    "    cost = -np.sum(train_labels * np.log2(predictions)) / len(train_labels)\n",
    "    return cost\n",
    "\n",
    "\n",
    "training_loss = jit(loss)\n",
    "gradient = jit(grad(loss))\n"
   ]
  },
  {
   "cell_type": "code",
   "execution_count": 180,
   "metadata": {},
   "outputs": [
    {
     "ename": "TracerArrayConversionError",
     "evalue": "The numpy.ndarray conversion method __array__() was called on the JAX Tracer object Traced<ShapedArray(float32[2])>with<JVPTrace(level=2/1)> with\n  primal = Traced<ShapedArray(float32[2])>with<DynamicJaxprTrace(level=0/1)>\n  tangent = Traced<ShapedArray(float32[2])>with<JaxprTrace(level=1/1)> with\n    pval = (ShapedArray(float32[2]), None)\n    recipe = LambdaBinding()\nSee https://jax.readthedocs.io/en/latest/errors.html#jax.errors.TracerArrayConversionError",
     "output_type": "error",
     "traceback": [
      "\u001b[0;31m---------------------------------------------------------------------------\u001b[0m",
      "\u001b[0;31mTracerArrayConversionError\u001b[0m                Traceback (most recent call last)",
      "\u001b[1;32m/home/maria/Quantum-Natural-Language-Processing-with-lambeq---Quantinuum/Task5/Task5.ipynb Cell 14\u001b[0m in \u001b[0;36m<cell line: 4>\u001b[0;34m()\u001b[0m\n\u001b[1;32m      <a href='vscode-notebook-cell:/home/maria/Quantum-Natural-Language-Processing-with-lambeq---Quantinuum/Task5/Task5.ipynb#X20sZmlsZQ%3D%3D?line=1'>2</a>\u001b[0m training_losses \u001b[39m=\u001b[39m []\n\u001b[1;32m      <a href='vscode-notebook-cell:/home/maria/Quantum-Natural-Language-Processing-with-lambeq---Quantinuum/Task5/Task5.ipynb#X20sZmlsZQ%3D%3D?line=3'>4</a>\u001b[0m \u001b[39mfor\u001b[39;00m i \u001b[39min\u001b[39;00m \u001b[39mrange\u001b[39m(EPOCHS):\n\u001b[0;32m----> <a href='vscode-notebook-cell:/home/maria/Quantum-Natural-Language-Processing-with-lambeq---Quantinuum/Task5/Task5.ipynb#X20sZmlsZQ%3D%3D?line=4'>5</a>\u001b[0m     gr \u001b[39m=\u001b[39m gradient(tensors)\n\u001b[1;32m      <a href='vscode-notebook-cell:/home/maria/Quantum-Natural-Language-Processing-with-lambeq---Quantinuum/Task5/Task5.ipynb#X20sZmlsZQ%3D%3D?line=5'>6</a>\u001b[0m     \u001b[39mfor\u001b[39;00m k \u001b[39min\u001b[39;00m \u001b[39mrange\u001b[39m(\u001b[39mlen\u001b[39m(tensors)):\n\u001b[1;32m      <a href='vscode-notebook-cell:/home/maria/Quantum-Natural-Language-Processing-with-lambeq---Quantinuum/Task5/Task5.ipynb#X20sZmlsZQ%3D%3D?line=6'>7</a>\u001b[0m         tensors[k] \u001b[39m=\u001b[39m tensors[k] \u001b[39m-\u001b[39m gr[k] \u001b[39m*\u001b[39m \u001b[39m1.0\u001b[39m\n",
      "    \u001b[0;31m[... skipping hidden 24 frame]\u001b[0m\n",
      "\u001b[1;32m/home/maria/Quantum-Natural-Language-Processing-with-lambeq---Quantinuum/Task5/Task5.ipynb Cell 14\u001b[0m in \u001b[0;36mloss\u001b[0;34m(tensors)\u001b[0m\n\u001b[1;32m      <a href='vscode-notebook-cell:/home/maria/Quantum-Natural-Language-Processing-with-lambeq---Quantinuum/Task5/Task5.ipynb#X20sZmlsZQ%3D%3D?line=6'>7</a>\u001b[0m np_circuits \u001b[39m=\u001b[39m [c\u001b[39m.\u001b[39mlambdify(\u001b[39m*\u001b[39mvocab)(\u001b[39m*\u001b[39mtensors) \u001b[39mfor\u001b[39;00m c \u001b[39min\u001b[39;00m train_circuits]\n\u001b[1;32m      <a href='vscode-notebook-cell:/home/maria/Quantum-Natural-Language-Processing-with-lambeq---Quantinuum/Task5/Task5.ipynb#X20sZmlsZQ%3D%3D?line=7'>8</a>\u001b[0m \u001b[39m# Compute predictions\u001b[39;00m\n\u001b[0;32m----> <a href='vscode-notebook-cell:/home/maria/Quantum-Natural-Language-Processing-with-lambeq---Quantinuum/Task5/Task5.ipynb#X20sZmlsZQ%3D%3D?line=8'>9</a>\u001b[0m predictions \u001b[39m=\u001b[39m  sigmoid(np\u001b[39m.\u001b[39marray([c\u001b[39m.\u001b[39meval()\u001b[39m.\u001b[39marray \u001b[39mfor\u001b[39;00m c \u001b[39min\u001b[39;00m np_circuits]))\n\u001b[1;32m     <a href='vscode-notebook-cell:/home/maria/Quantum-Natural-Language-Processing-with-lambeq---Quantinuum/Task5/Task5.ipynb#X20sZmlsZQ%3D%3D?line=10'>11</a>\u001b[0m \u001b[39m# binary cross-entropy loss\u001b[39;00m\n\u001b[1;32m     <a href='vscode-notebook-cell:/home/maria/Quantum-Natural-Language-Processing-with-lambeq---Quantinuum/Task5/Task5.ipynb#X20sZmlsZQ%3D%3D?line=11'>12</a>\u001b[0m cost \u001b[39m=\u001b[39m \u001b[39m-\u001b[39mnp\u001b[39m.\u001b[39msum(train_labels \u001b[39m*\u001b[39m np\u001b[39m.\u001b[39mlog2(predictions)) \u001b[39m/\u001b[39m \u001b[39mlen\u001b[39m(train_labels)\n",
      "\u001b[1;32m/home/maria/Quantum-Natural-Language-Processing-with-lambeq---Quantinuum/Task5/Task5.ipynb Cell 14\u001b[0m in \u001b[0;36m<listcomp>\u001b[0;34m(.0)\u001b[0m\n\u001b[1;32m      <a href='vscode-notebook-cell:/home/maria/Quantum-Natural-Language-Processing-with-lambeq---Quantinuum/Task5/Task5.ipynb#X20sZmlsZQ%3D%3D?line=6'>7</a>\u001b[0m np_circuits \u001b[39m=\u001b[39m [c\u001b[39m.\u001b[39mlambdify(\u001b[39m*\u001b[39mvocab)(\u001b[39m*\u001b[39mtensors) \u001b[39mfor\u001b[39;00m c \u001b[39min\u001b[39;00m train_circuits]\n\u001b[1;32m      <a href='vscode-notebook-cell:/home/maria/Quantum-Natural-Language-Processing-with-lambeq---Quantinuum/Task5/Task5.ipynb#X20sZmlsZQ%3D%3D?line=7'>8</a>\u001b[0m \u001b[39m# Compute predictions\u001b[39;00m\n\u001b[0;32m----> <a href='vscode-notebook-cell:/home/maria/Quantum-Natural-Language-Processing-with-lambeq---Quantinuum/Task5/Task5.ipynb#X20sZmlsZQ%3D%3D?line=8'>9</a>\u001b[0m predictions \u001b[39m=\u001b[39m  sigmoid(np\u001b[39m.\u001b[39marray([c\u001b[39m.\u001b[39;49meval()\u001b[39m.\u001b[39marray \u001b[39mfor\u001b[39;00m c \u001b[39min\u001b[39;00m np_circuits]))\n\u001b[1;32m     <a href='vscode-notebook-cell:/home/maria/Quantum-Natural-Language-Processing-with-lambeq---Quantinuum/Task5/Task5.ipynb#X20sZmlsZQ%3D%3D?line=10'>11</a>\u001b[0m \u001b[39m# binary cross-entropy loss\u001b[39;00m\n\u001b[1;32m     <a href='vscode-notebook-cell:/home/maria/Quantum-Natural-Language-Processing-with-lambeq---Quantinuum/Task5/Task5.ipynb#X20sZmlsZQ%3D%3D?line=11'>12</a>\u001b[0m cost \u001b[39m=\u001b[39m \u001b[39m-\u001b[39mnp\u001b[39m.\u001b[39msum(train_labels \u001b[39m*\u001b[39m np\u001b[39m.\u001b[39mlog2(predictions)) \u001b[39m/\u001b[39m \u001b[39mlen\u001b[39m(train_labels)\n",
      "File \u001b[0;32m~/.local/lib/python3.10/site-packages/discopy/tensor.py:520\u001b[0m, in \u001b[0;36mDiagram.eval\u001b[0;34m(self, contractor, dtype)\u001b[0m\n\u001b[1;32m    515\u001b[0m     \u001b[39mraise\u001b[39;00m \u001b[39mException\u001b[39;00m(\n\u001b[1;32m    516\u001b[0m         \u001b[39m'\u001b[39m\u001b[39mProvide a tensornetwork contractor\u001b[39m\u001b[39m'\u001b[39m\n\u001b[1;32m    517\u001b[0m         \u001b[39m'\u001b[39m\u001b[39mwhen using a non-numpy backend.\u001b[39m\u001b[39m'\u001b[39m)\n\u001b[1;32m    519\u001b[0m \u001b[39mif\u001b[39;00m contractor \u001b[39mis\u001b[39;00m \u001b[39mNone\u001b[39;00m:\n\u001b[0;32m--> 520\u001b[0m     \u001b[39mreturn\u001b[39;00m Functor(ob\u001b[39m=\u001b[39;49m\u001b[39mlambda\u001b[39;49;00m x: x, ar\u001b[39m=\u001b[39;49m\u001b[39mlambda\u001b[39;49;00m f: f\u001b[39m.\u001b[39;49marray)(\u001b[39mself\u001b[39;49m)\n\u001b[1;32m    521\u001b[0m array \u001b[39m=\u001b[39m contractor(\u001b[39m*\u001b[39m\u001b[39mself\u001b[39m\u001b[39m.\u001b[39mto_tn(dtype\u001b[39m=\u001b[39mdtype))\u001b[39m.\u001b[39mtensor\n\u001b[1;32m    522\u001b[0m \u001b[39mreturn\u001b[39;00m Tensor(\u001b[39mself\u001b[39m\u001b[39m.\u001b[39mdom, \u001b[39mself\u001b[39m\u001b[39m.\u001b[39mcod, array)\n",
      "File \u001b[0;32m~/.local/lib/python3.10/site-packages/discopy/tensor.py:469\u001b[0m, in \u001b[0;36mFunctor.__call__\u001b[0;34m(self, diagram)\u001b[0m\n\u001b[1;32m    465\u001b[0m source \u001b[39m=\u001b[39m \u001b[39mlist\u001b[39m(\u001b[39mrange\u001b[39m(dim(diagram\u001b[39m.\u001b[39mdom) \u001b[39m+\u001b[39m left,\n\u001b[1;32m    466\u001b[0m                     dim(diagram\u001b[39m.\u001b[39mdom) \u001b[39m+\u001b[39m left \u001b[39m+\u001b[39m dim(box\u001b[39m.\u001b[39mdom)))\n\u001b[1;32m    467\u001b[0m target \u001b[39m=\u001b[39m \u001b[39mlist\u001b[39m(\u001b[39mrange\u001b[39m(dim(box\u001b[39m.\u001b[39mdom)))\n\u001b[1;32m    468\u001b[0m array \u001b[39m=\u001b[39m\\\n\u001b[0;32m--> 469\u001b[0m     Tensor\u001b[39m.\u001b[39mnp\u001b[39m.\u001b[39mtensordot(array, \u001b[39mself\u001b[39;49m(box)\u001b[39m.\u001b[39marray, (source, target))\n\u001b[1;32m    470\u001b[0m source \u001b[39m=\u001b[39m \u001b[39mrange\u001b[39m(\u001b[39mlen\u001b[39m(array\u001b[39m.\u001b[39mshape) \u001b[39m-\u001b[39m dim(box\u001b[39m.\u001b[39mcod), \u001b[39mlen\u001b[39m(array\u001b[39m.\u001b[39mshape))\n\u001b[1;32m    471\u001b[0m target \u001b[39m=\u001b[39m \u001b[39mrange\u001b[39m(dim(diagram\u001b[39m.\u001b[39mdom) \u001b[39m+\u001b[39m left,\n\u001b[1;32m    472\u001b[0m                dim(diagram\u001b[39m.\u001b[39mdom) \u001b[39m+\u001b[39m left \u001b[39m+\u001b[39m dim(box\u001b[39m.\u001b[39mcod))\n",
      "File \u001b[0;32m~/.local/lib/python3.10/site-packages/discopy/tensor.py:444\u001b[0m, in \u001b[0;36mFunctor.__call__\u001b[0;34m(self, diagram)\u001b[0m\n\u001b[1;32m    442\u001b[0m     \u001b[39mif\u001b[39;00m diagram\u001b[39m.\u001b[39mis_dagger:\n\u001b[1;32m    443\u001b[0m         \u001b[39mreturn\u001b[39;00m \u001b[39mself\u001b[39m(diagram\u001b[39m.\u001b[39mdagger())\u001b[39m.\u001b[39mdagger()\n\u001b[0;32m--> 444\u001b[0m     \u001b[39mreturn\u001b[39;00m Tensor(\u001b[39mself\u001b[39;49m(diagram\u001b[39m.\u001b[39;49mdom), \u001b[39mself\u001b[39;49m(diagram\u001b[39m.\u001b[39;49mcod),\n\u001b[1;32m    445\u001b[0m                   \u001b[39mself\u001b[39;49m\u001b[39m.\u001b[39;49mar[diagram])\n\u001b[1;32m    446\u001b[0m \u001b[39mif\u001b[39;00m \u001b[39mnot\u001b[39;00m \u001b[39misinstance\u001b[39m(diagram, monoidal\u001b[39m.\u001b[39mDiagram):\n\u001b[1;32m    447\u001b[0m     \u001b[39mraise\u001b[39;00m \u001b[39mTypeError\u001b[39;00m(messages\u001b[39m.\u001b[39mtype_err(monoidal\u001b[39m.\u001b[39mDiagram, diagram))\n",
      "File \u001b[0;32m~/.local/lib/python3.10/site-packages/discopy/tensor.py:192\u001b[0m, in \u001b[0;36mTensor.__init__\u001b[0;34m(self, dom, cod, array)\u001b[0m\n\u001b[1;32m    191\u001b[0m \u001b[39mdef\u001b[39;00m \u001b[39m__init__\u001b[39m(\u001b[39mself\u001b[39m, dom, cod, array):\n\u001b[0;32m--> 192\u001b[0m     \u001b[39mself\u001b[39m\u001b[39m.\u001b[39m_array \u001b[39m=\u001b[39m Tensor\u001b[39m.\u001b[39;49mnp\u001b[39m.\u001b[39;49marray(array)\u001b[39m.\u001b[39mreshape(\u001b[39mtuple\u001b[39m(dom \u001b[39m@\u001b[39m cod))\n\u001b[1;32m    193\u001b[0m     \u001b[39msuper\u001b[39m()\u001b[39m.\u001b[39m\u001b[39m__init__\u001b[39m(\u001b[39m\"\u001b[39m\u001b[39mTensor\u001b[39m\u001b[39m\"\u001b[39m, dom, cod)\n",
      "File \u001b[0;32m~/.local/lib/python3.10/site-packages/jax/core.py:534\u001b[0m, in \u001b[0;36mTracer.__array__\u001b[0;34m(self, *args, **kw)\u001b[0m\n\u001b[1;32m    533\u001b[0m \u001b[39mdef\u001b[39;00m \u001b[39m__array__\u001b[39m(\u001b[39mself\u001b[39m, \u001b[39m*\u001b[39margs, \u001b[39m*\u001b[39m\u001b[39m*\u001b[39mkw):\n\u001b[0;32m--> 534\u001b[0m   \u001b[39mraise\u001b[39;00m TracerArrayConversionError(\u001b[39mself\u001b[39m)\n",
      "\u001b[0;31mTracerArrayConversionError\u001b[0m: The numpy.ndarray conversion method __array__() was called on the JAX Tracer object Traced<ShapedArray(float32[2])>with<JVPTrace(level=2/1)> with\n  primal = Traced<ShapedArray(float32[2])>with<DynamicJaxprTrace(level=0/1)>\n  tangent = Traced<ShapedArray(float32[2])>with<JaxprTrace(level=1/1)> with\n    pval = (ShapedArray(float32[2]), None)\n    recipe = LambdaBinding()\nSee https://jax.readthedocs.io/en/latest/errors.html#jax.errors.TracerArrayConversionError"
     ]
    }
   ],
   "source": [
    "#Trainer\n",
    "training_losses = []\n",
    "\n",
    "for i in range(EPOCHS):\n",
    "    gr = gradient(tensors)\n",
    "    for k in range(len(tensors)):\n",
    "        tensors[k] = tensors[k] - gr[k] * 1.0\n",
    "\n",
    "    training_losses.append(float(training_loss(tensors)))\n",
    "\n",
    "    if (i + 1) % 10 == 0:\n",
    "        print(f\"Epoch {i + 1} - loss {training_losses[-1]}\")\n",
    "\n"
   ]
  },
  {
   "cell_type": "code",
   "execution_count": null,
   "metadata": {},
   "outputs": [],
   "source": [
    "#Create dataset\n",
    "\"\"\"\n",
    "train_dataset = Dataset(\n",
    "            train_circuits,\n",
    "            train_labels,\n",
    "            batch_size=BATCH_SIZE)\n",
    "\n",
    "test_dataset = Dataset(test_circuits, test_labels, shuffle=False)\n",
    "\"\"\""
   ]
  },
  {
   "cell_type": "code",
   "execution_count": null,
   "metadata": {},
   "outputs": [
    {
     "name": "stderr",
     "output_type": "stream",
     "text": [
      "Epoch 1:    train/loss: 4.1082   valid/loss: 3.8586   train/acc: 0.3000   valid/acc: 0.5176\n",
      "Epoch 100:  train/loss: 0.4479   valid/loss: 1.5248   train/acc: 0.8667   valid/acc: 0.5235\n",
      "\n",
      "Training completed!\n"
     ]
    }
   ],
   "source": [
    "#Train model\n",
    "\"\"\"\n",
    "trainer.fit(train_dataset, test_dataset, evaluation_step=1, logging_step=100)\n",
    "\"\"\""
   ]
  },
  {
   "cell_type": "code",
   "execution_count": null,
   "metadata": {},
   "outputs": [],
   "source": [
    "# Testing\n",
    "\n",
    "np_test_circuits = [c.lambdify(*vocab)(*tensors) for c in test_circuits]\n",
    "test_predictions =  sigmoid(np.array([c.eval().array for c in np_test_circuits]))\n",
    "\n",
    "hits = 0\n",
    "for i in range(len(np_test_circuits)):\n",
    "    target = test_targets[i]\n",
    "    pred = test_predictions[i]\n",
    "    if np.argmax(target) == np.argmax(pred):\n",
    "        hits += 1\n",
    "\n",
    "print(\"Accuracy on test set:\", hits / len(np_test_circuits))"
   ]
  },
  {
   "cell_type": "code",
   "execution_count": null,
   "metadata": {},
   "outputs": [
    {
     "data": {
      "text/plain": [
       "[<matplotlib.lines.Line2D at 0x7fbbf8b69270>]"
      ]
     },
     "execution_count": 51,
     "metadata": {},
     "output_type": "execute_result"
    },
    {
     "data": {
      "image/png": "[encoded data removed]",
      "text/plain": [
       "<Figure size 720x432 with 4 Axes>"
      ]
     },
     "metadata": {
      "needs_background": "light"
     },
     "output_type": "display_data"
    }
   ],
   "source": [
    "#Printing train model\n",
    "fig, ((ax_tl, ax_tr), (ax_bl, ax_br)) = plt.subplots(2, 2, sharex=True, sharey='row', figsize=(10, 6))\n",
    "ax_tl.set_title('Training set')\n",
    "ax_tr.set_title('Development set')\n",
    "ax_bl.set_xlabel('Iterations')\n",
    "ax_br.set_xlabel('Iterations')\n",
    "ax_bl.set_ylabel('Accuracy')\n",
    "ax_tl.set_ylabel('Loss')\n",
    "\n",
    "colours = iter(plt.rcParams['axes.prop_cycle'].by_key()['color'])\n",
    "ax_tl.plot(trainer.train_epoch_costs[::10], color=next(colours))\n",
    "ax_bl.plot(trainer.train_results['acc'][::10], color=next(colours))\n",
    "ax_tr.plot(trainer.val_costs[::10], color=next(colours))\n",
    "ax_br.plot(trainer.val_results['acc'][::10], color=next(colours))"
   ]
  }
 ],
 "metadata": {
  "kernelspec": {
   "display_name": "Python 3.10.4 64-bit",
   "language": "python",
   "name": "python3"
  },
  "language_info": {
   "codemirror_mode": {
    "name": "ipython",
    "version": 3
   },
   "file_extension": ".py",
   "mimetype": "text/x-python",
   "name": "python",
   "nbconvert_exporter": "python",
   "pygments_lexer": "ipython3",
   "version": "3.10.4"
  },
  "orig_nbformat": 4,
  "vscode": {
   "interpreter": {
    "hash": "e7370f93d1d0cde622a1f8e1c04877d8463912d04d973331ad4851f04de6915a"
   }
  }
 },
 "nbformat": 4,
 "nbformat_minor": 2
}
