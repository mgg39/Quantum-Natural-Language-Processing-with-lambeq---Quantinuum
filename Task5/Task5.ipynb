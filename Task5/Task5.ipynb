{
 "cells": [
  {
   "cell_type": "code",
   "execution_count": 34,
   "metadata": {},
   "outputs": [],
   "source": [
    "import os\n",
    "import warnings\n",
    "\n",
    "warnings.filterwarnings('ignore')\n",
    "os.environ['TOKENIZERS_PARALLELISM'] = 'true'"
   ]
  },
  {
   "cell_type": "code",
   "execution_count": 35,
   "metadata": {},
   "outputs": [],
   "source": [
    "import numpy as np\n",
    "\n",
    "import matplotlib.pyplot as plt\n",
    "\n",
    "from lambeq import BobcatParser\n",
    "from lambeq import AtomicType, IQPAnsatz, remove_cups\n",
    "from lambeq import TketModel\n",
    "from lambeq import QuantumTrainer, SPSAOptimizer\n",
    "from lambeq import Dataset\n",
    "\n",
    "from discopy import grammar\n",
    "from discopy import Dim\n",
    "\n",
    "from pytket.extensions.qiskit import AerBackend\n",
    "from pytket.circuit.display import render_circuit_jupyter\n"
   ]
  },
  {
   "cell_type": "code",
   "execution_count": 36,
   "metadata": {},
   "outputs": [],
   "source": [
    "BATCH_SIZE = 50\n",
    "EPOCHS = 10\n",
    "SEED = 2"
   ]
  },
  {
   "cell_type": "code",
   "execution_count": 37,
   "metadata": {},
   "outputs": [],
   "source": [
    "#Input data MC1\n",
    "\n",
    "def read_data(filename):\n",
    "    labels, sentences = [], []\n",
    "    with open(filename) as f:\n",
    "        for line in f:\n",
    "            #sentences are split by , in our data set\n",
    "            end_sentence = line.split(\",\")\n",
    "            t = int(end_sentence[2])\n",
    "            labels.append([t, 1-t])\n",
    "            #there are two sentences per associated label\n",
    "            #we need to make sure they are both used\n",
    "            sentences.append(end_sentence[0])\n",
    "            sentences.append(end_sentence[1])\n",
    "    return labels, sentences"
   ]
  },
  {
   "cell_type": "code",
   "execution_count": 38,
   "metadata": {},
   "outputs": [
    {
     "name": "stdout",
     "output_type": "stream",
     "text": [
      "([[1, 0], [1, 0], [0, 1], [1, 0], [1, 0], [1, 0], [1, 0], [1, 0], [1, 0], [0, 1], [0, 1], [0, 1], [0, 1], [1, 0], [0, 1], [1, 0], [0, 1], [0, 1], [1, 0], [1, 0], [1, 0], [1, 0], [1, 0], [1, 0], [0, 1], [1, 0], [1, 0], [1, 0], [1, 0], [0, 1], [1, 0], [0, 1], [0, 1], [1, 0], [1, 0], [1, 0], [1, 0], [0, 1], [1, 0], [1, 0], [0, 1], [1, 0], [0, 1], [0, 1], [1, 0], [1, 0], [0, 1], [0, 1], [0, 1], [1, 0], [0, 1], [1, 0], [1, 0], [0, 1], [1, 0], [1, 0], [0, 1], [0, 1], [0, 1], [1, 0], [0, 1], [0, 1], [1, 0], [0, 1], [1, 0], [0, 1], [0, 1], [0, 1], [1, 0], [0, 1], [0, 1], [1, 0], [1, 0], [0, 1], [1, 0], [1, 0], [0, 1], [1, 0], [0, 1], [0, 1], [0, 1], [1, 0], [1, 0], [0, 1], [1, 0], [1, 0], [1, 0], [0, 1], [0, 1], [0, 1], [1, 0], [1, 0], [0, 1], [0, 1], [0, 1], [0, 1], [0, 1], [0, 1], [1, 0], [1, 0]], ['cook creates complicated dish', ' experienced chef prepares complicated dish', 'skilful programmer creates code', ' devoted hacker writes code', 'skilful cook creates meal', ' devoted hacker creates complicated code', 'hacker writes code', ' skilful hacker creates code', 'devoted hacker writes code', ' hacker writes complicated code', 'skilful programmer creates advanced code', ' skilful hacker writes complicated code', 'experienced cook prepares meal', ' experienced chef prepares meal', 'devoted programmer creates advanced code', ' skilful programmer writes advanced code', 'hacker creates code', ' programmer creates complicated code', 'programmer creates code', ' cook prepares complicated dish', 'chef prepares complicated dish', ' skilful hacker creates code', 'skilful chef creates tasty dish', ' skilful hacker writes code', 'cook creates complicated dish', ' hacker writes code', 'hacker writes code', ' devoted hacker creates code', 'skilful programmer writes advanced code', ' chef prepares tasty dish', 'programmer creates code', ' programmer creates advanced code', 'skilful cook prepares tasty dish', ' hacker creates code', 'chef creates dish', ' programmer writes advanced code', 'experienced chef creates complicated dish', ' experienced chef prepares meal', 'programmer writes code', ' programmer writes code', 'experienced cook creates dish', ' skilful chef creates complicated dish', 'skilful programmer creates code', ' devoted hacker creates complicated code', 'cook creates meal', ' chef prepares complicated dish', 'devoted hacker writes complicated code', ' devoted programmer creates complicated code', 'programmer writes code', ' cook creates tasty dish', 'skilful chef creates tasty meal', ' cook prepares tasty meal', 'cook creates complicated meal', ' cook prepares dish', 'chef prepares meal', ' skilful chef creates tasty dish', 'programmer creates advanced code', ' hacker creates code', 'skilful chef prepares complicated dish', ' skilful programmer writes code', 'chef prepares meal', ' cook creates dish', 'devoted hacker creates complicated code', ' cook creates complicated dish', 'skilful chef creates tasty dish', ' hacker creates code', 'experienced cook prepares tasty dish', ' chef creates complicated dish', 'chef creates meal', ' skilful chef prepares tasty dish', 'experienced chef creates tasty meal', ' cook creates dish', 'chef creates meal', ' experienced cook prepares complicated dish', 'devoted programmer creates complicated code', ' cook prepares tasty dish', 'programmer creates code', ' devoted hacker writes code', 'chef creates tasty meal', ' cook prepares complicated dish', 'hacker creates code', ' skilful chef creates meal', 'skilful chef prepares tasty dish', ' chef prepares tasty dish', 'skilful programmer writes code', ' chef creates meal', 'devoted programmer writes code', ' chef prepares dish', 'experienced chef creates complicated meal', ' skilful cook prepares meal', 'skilful hacker writes code', ' skilful hacker creates complicated code', 'cook creates tasty dish', ' programmer creates advanced code', 'skilful chef prepares tasty meal', ' devoted hacker creates code', 'skilful chef creates tasty meal', ' skilful programmer creates code', 'devoted programmer creates complicated code', ' devoted hacker writes advanced code', 'skilful cook creates complicated dish', ' programmer writes code', 'programmer writes code', ' skilful hacker writes advanced code', 'chef prepares meal', ' skilful cook creates complicated dish', 'cook prepares complicated dish', ' hacker writes advanced code', 'cook prepares complicated meal', ' cook prepares complicated dish', 'programmer writes advanced code', ' hacker writes code', 'devoted hacker writes code', ' experienced cook creates meal', 'hacker creates advanced code', ' chef creates dish', 'chef creates tasty meal', ' skilful programmer writes advanced code', 'cook creates dish', ' experienced cook prepares tasty meal', 'experienced chef prepares meal', ' programmer creates code', 'programmer writes complicated code', ' skilful cook creates tasty dish', 'cook creates meal', ' chef creates dish', 'programmer writes code', ' chef creates tasty dish', 'cook creates dish', ' skilful chef prepares dish', 'hacker creates code', ' cook creates complicated dish', 'chef creates dish', ' programmer creates complicated code', 'experienced cook prepares dish', ' skilful hacker writes code', 'chef prepares meal', ' chef prepares dish', 'hacker writes code', ' cook prepares tasty meal', 'skilful hacker writes code', ' cook creates meal', 'experienced cook creates meal', ' experienced chef creates dish', 'chef prepares complicated dish', ' experienced cook prepares tasty dish', 'skilful chef prepares dish', ' programmer creates complicated code', 'hacker creates advanced code', ' programmer creates code', 'cook prepares meal', ' chef creates meal', 'devoted hacker writes complicated code', ' skilful chef creates dish', 'programmer creates complicated code', ' devoted hacker creates advanced code', 'chef creates complicated meal', ' skilful programmer creates advanced code', 'skilful programmer creates complicated code', ' chef creates meal', 'devoted hacker creates complicated code', ' skilful cook prepares complicated meal', 'chef creates complicated meal', ' cook prepares tasty dish', 'chef prepares tasty meal', ' chef prepares meal', 'programmer writes code', ' cook prepares complicated meal', 'hacker writes advanced code', ' hacker creates code', 'skilful cook creates meal', ' experienced chef creates meal', 'programmer writes advanced code', ' hacker creates advanced code', 'skilful chef creates meal', ' skilful hacker creates advanced code', 'hacker writes advanced code', ' chef creates dish', 'programmer creates code', ' cook creates dish', 'experienced chef prepares complicated dish', ' skilful cook creates meal', 'skilful cook creates meal', ' chef prepares dish', 'programmer writes code', ' chef creates meal', 'programmer creates complicated code', ' skilful cook prepares tasty meal', 'experienced cook creates dish', ' programmer writes code', 'skilful programmer writes advanced code', ' skilful cook prepares meal', 'programmer creates code', ' chef creates dish', 'hacker creates code', ' chef prepares dish', 'skilful programmer creates complicated code', ' programmer writes complicated code', 'experienced cook creates dish', ' skilful chef creates dish'])\n"
     ]
    }
   ],
   "source": [
    "#Testing\n",
    "print(read_data('MC1.TXT'))"
   ]
  },
  {
   "cell_type": "code",
   "execution_count": 39,
   "metadata": {},
   "outputs": [],
   "source": [
    "#we will use 15% of the data as a training set\n",
    "labels, data = read_data('MC1.TXT')\n",
    "train_labels, train_data = labels[0:15] , data[0:15]\n",
    "test_labels, test_data = labels[15:100] , data[15:100]"
   ]
  },
  {
   "cell_type": "code",
   "execution_count": 40,
   "metadata": {},
   "outputs": [
    {
     "name": "stderr",
     "output_type": "stream",
     "text": [
      "Tagging sentences.\n",
      "Parsing tagged sentences.\n",
      "Turning parse trees to diagrams.\n",
      "Tagging sentences.\n",
      "Parsing tagged sentences.\n",
      "Turning parse trees to diagrams.\n"
     ]
    }
   ],
   "source": [
    "#Parser\n",
    "parser = BobcatParser(root_cats=('NP', 'N'), verbose='text')\n",
    "train_diagrams = parser.sentences2diagrams(train_data, suppress_exceptions=True)\n",
    "test_diagrams = parser.sentences2diagrams(test_data, suppress_exceptions=True)\n"
   ]
  },
  {
   "cell_type": "code",
   "execution_count": 41,
   "metadata": {},
   "outputs": [],
   "source": [
    "train_diagrams = [\n",
    "    diagram.normal_form()\n",
    "    for diagram in train_diagrams if diagram is not None]\n",
    "test_diagrams = [\n",
    "    diagram.normal_form()\n",
    "    for diagram in test_diagrams if diagram is not None]\n",
    "\n",
    "train_labels = [\n",
    "    label for (diagram, label)\n",
    "    in zip(train_diagrams, train_labels)\n",
    "    if diagram is not None]\n",
    "test_labels = [\n",
    "    label for (diagram, label)\n",
    "    in zip(test_diagrams, test_labels)\n",
    "    if diagram is not None]"
   ]
  },
  {
   "cell_type": "code",
   "execution_count": 42,
   "metadata": {},
   "outputs": [],
   "source": [
    "#Circuits\n",
    "ansatz = IQPAnsatz({AtomicType.NOUN: 1, AtomicType.SENTENCE: 0},\n",
    "                   n_layers=1, n_single_qubit_params=3)\n",
    "\n",
    "train_circuits = [ansatz(remove_cups(diagram)) for diagram in train_diagrams]\n",
    "test_circuits =  [ansatz(remove_cups(diagram))  for diagram in test_diagrams]\n"
   ]
  },
  {
   "cell_type": "code",
   "execution_count": 69,
   "metadata": {},
   "outputs": [
    {
     "name": "stdout",
     "output_type": "stream",
     "text": [
      "['cook creates complicated dish', ' experienced chef prepares complicated dish', 'skilful programmer creates code', ' devoted hacker writes code', 'skilful cook creates meal', ' devoted hacker creates complicated code', 'hacker writes code', ' skilful hacker creates code', 'devoted hacker writes code', ' hacker writes complicated code', 'skilful programmer creates advanced code', ' skilful hacker writes complicated code', 'experienced cook prepares meal', ' experienced chef prepares meal', 'devoted programmer creates advanced code']\n",
      "1\n"
     ]
    }
   ],
   "source": [
    "#Testing\n",
    "\n",
    "#print(train_circuits[1])\n",
    "#print(train_circuits[1])\n",
    "print(train_data)\n",
    "#training data binary association: 1 = code, 0 = chef\n",
    "training_tags = [0,0,1,1,0,1,1,1,1,1,1,1,0,0,1]\n"
   ]
  },
  {
   "cell_type": "code",
   "execution_count": 46,
   "metadata": {},
   "outputs": [],
   "source": [
    "#Model\n",
    "all_circuits = train_circuits + test_circuits\n",
    "\n",
    "backend = AerBackend()\n",
    "backend_config = {\n",
    "    'backend': backend,\n",
    "    'compilation': backend.default_compilation_pass(2),\n",
    "    'shots': 8192\n",
    "}\n",
    "\n",
    "'''\n",
    "#Standart model\n",
    "model = TketModel.from_diagrams(all_circuits, backend_config=backend_config)\n",
    "'''\n",
    "\n",
    "class MyCustomModel(PytorchModel):\n",
    "    def __init__(self):\n",
    "        super().__init__()\n",
    "        self.net = torch.nn.Linear(2, 2)\n",
    "\n",
    "    def forward(self, input):\n",
    "        \"\"\"define a custom forward pass here\"\"\"\n",
    "        preds = self.get_diagram_output(input)\n",
    "        preds = self.net(preds)\n",
    "        return preds\n",
    "\n",
    "custom_model = MyCustomModel.from_diagrams(all_circuits)"
   ]
  },
  {
   "cell_type": "code",
   "execution_count": 47,
   "metadata": {},
   "outputs": [],
   "source": [
    "#Loss & eval metrics\n",
    "loss = lambda y_hat, y: -np.sum(y * np.log(y_hat)) / len(y)  # binary cross-entropy loss\n",
    "acc = lambda y_hat, y: np.sum(np.round(y_hat) == y) / len(y) / 2  # half due to double-counting\n",
    "eval_metrics = {\"acc\": acc}\n"
   ]
  },
  {
   "cell_type": "code",
   "execution_count": 48,
   "metadata": {},
   "outputs": [],
   "source": [
    "#Trainer\n",
    "''' \n",
    "#Standart model\n",
    "trainer = QuantumTrainer(\n",
    "    model,\n",
    "    loss_function=loss,\n",
    "    epochs=EPOCHS,\n",
    "    optimizer=SPSAOptimizer,\n",
    "    optim_hyperparams={'a': 0.05, 'c': 0.06, 'A':0.01*EPOCHS},\n",
    "    evaluate_functions=eval_metrics,\n",
    "    evaluate_on_train=True,\n",
    "    verbose = 'text',\n",
    "    seed=0\n",
    ")\n",
    "'''\n",
    "custom_model_trainer = PytorchTrainer(\n",
    "        model=custom_model,\n",
    "        loss_function=torch.nn.BCEWithLogitsLoss(),\n",
    "        optimizer=torch.optim.AdamW,\n",
    "        learning_rate=LEARNING_RATE,\n",
    "        epochs=EPOCHS,\n",
    "        evaluate_functions=eval_metrics,\n",
    "        evaluate_on_train=True,\n",
    "        verbose='text',\n",
    "        seed=SEED)\n",
    "custom_model_trainer.fit(train_dataset, val_dataset, logging_step=5)"
   ]
  },
  {
   "cell_type": "code",
   "execution_count": 49,
   "metadata": {},
   "outputs": [],
   "source": [
    "#Create dataset\n",
    "train_dataset = Dataset(\n",
    "            train_circuits,\n",
    "            train_labels,\n",
    "            batch_size=BATCH_SIZE)\n",
    "\n",
    "test_dataset = Dataset(test_circuits, test_labels, shuffle=False)"
   ]
  },
  {
   "cell_type": "code",
   "execution_count": 50,
   "metadata": {},
   "outputs": [
    {
     "name": "stderr",
     "output_type": "stream",
     "text": [
      "Epoch 1:    train/loss: 4.1082   valid/loss: 3.8586   train/acc: 0.3000   valid/acc: 0.5176\n",
      "Epoch 100:  train/loss: 0.4479   valid/loss: 1.5248   train/acc: 0.8667   valid/acc: 0.5235\n",
      "\n",
      "Training completed!\n"
     ]
    }
   ],
   "source": [
    "#Train model\n",
    "trainer.fit(train_dataset, test_dataset, evaluation_step=1, logging_step=100)"
   ]
  },
  {
   "cell_type": "code",
   "execution_count": 51,
   "metadata": {},
   "outputs": [
    {
     "data": {
      "text/plain": [
       "[<matplotlib.lines.Line2D at 0x7fbbf8b69270>]"
      ]
     },
     "execution_count": 51,
     "metadata": {},
     "output_type": "execute_result"
    },
    {
     "data": {
      "image/png": "[encoded data removed]",
      "text/plain": [
       "<Figure size 720x432 with 4 Axes>"
      ]
     },
     "metadata": {
      "needs_background": "light"
     },
     "output_type": "display_data"
    }
   ],
   "source": [
    "#Printing train model\n",
    "fig, ((ax_tl, ax_tr), (ax_bl, ax_br)) = plt.subplots(2, 2, sharex=True, sharey='row', figsize=(10, 6))\n",
    "ax_tl.set_title('Training set')\n",
    "ax_tr.set_title('Development set')\n",
    "ax_bl.set_xlabel('Iterations')\n",
    "ax_br.set_xlabel('Iterations')\n",
    "ax_bl.set_ylabel('Accuracy')\n",
    "ax_tl.set_ylabel('Loss')\n",
    "\n",
    "colours = iter(plt.rcParams['axes.prop_cycle'].by_key()['color'])\n",
    "ax_tl.plot(trainer.train_epoch_costs[::10], color=next(colours))\n",
    "ax_bl.plot(trainer.train_results['acc'][::10], color=next(colours))\n",
    "ax_tr.plot(trainer.val_costs[::10], color=next(colours))\n",
    "ax_br.plot(trainer.val_results['acc'][::10], color=next(colours))"
   ]
  }
 ],
 "metadata": {
  "kernelspec": {
   "display_name": "Python 3.10.4 64-bit",
   "language": "python",
   "name": "python3"
  },
  "language_info": {
   "codemirror_mode": {
    "name": "ipython",
    "version": 3
   },
   "file_extension": ".py",
   "mimetype": "text/x-python",
   "name": "python",
   "nbconvert_exporter": "python",
   "pygments_lexer": "ipython3",
   "version": "3.10.4"
  },
  "orig_nbformat": 4,
  "vscode": {
   "interpreter": {
    "hash": "e7370f93d1d0cde622a1f8e1c04877d8463912d04d973331ad4851f04de6915a"
   }
  }
 },
 "nbformat": 4,
 "nbformat_minor": 2
}
