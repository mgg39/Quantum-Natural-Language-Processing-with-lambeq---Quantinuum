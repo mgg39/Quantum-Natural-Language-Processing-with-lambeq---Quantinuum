{
 "cells": [
  {
   "cell_type": "code",
   "execution_count": 37,
   "metadata": {},
   "outputs": [],
   "source": [
    "import warnings\n",
    "warnings.filterwarnings('ignore')  # Ignore warnings\n",
    "import pickle\n",
    "import tensornetwork as tn\n",
    "import numpy\n",
    "np.random = numpy.random\n",
    "Tensor.np = np\n",
    "np.random.seed(123458)  # Fix the seed\n",
    "\n",
    "from jax import numpy as np\n",
    "from jax import jit, grad\n",
    "\n",
    "from __future__ import annotations\n",
    "\n",
    "from typing import Any, Callable\n",
    "\n",
    "from discopy import Tensor\n",
    "from discopy.tensor import Diagram\n",
    "\n",
    "from sympy import default_sort_key, lambdify\n",
    "\n",
    "from lambeq import BobcatParser\n",
    "from lambeq.training.model import SizedIterable\n",
    "from lambeq.training.quantum_model import QuantumModel"
   ]
  },
  {
   "cell_type": "code",
   "execution_count": 38,
   "metadata": {},
   "outputs": [],
   "source": [
    "# Read data\n",
    "def read_data(filename):\n",
    "    labels, sentences = [], []\n",
    "    with open(filename) as f:\n",
    "        for line in f:\n",
    "            #sentences are split by , in our data set\n",
    "            end_sentence = line.split(\",\")\n",
    "            t = int(end_sentence[2])\n",
    "            labels.append([t, 1-t])\n",
    "            #there are two sentences per associated label\n",
    "            #we need to make sure they are both used\n",
    "            sentences.append(end_sentence[0])\n",
    "            sentences.append(end_sentence[1])\n",
    "    return labels, sentences\n",
    "\n",
    "labels, data = read_data('MC1.TXT')\n",
    "train_targets, train_data = labels[0:15] , data[0:15]\n",
    "test_targets, test_data = labels[15:100] , data[15:100]\n"
   ]
  },
  {
   "cell_type": "code",
   "execution_count": 39,
   "metadata": {},
   "outputs": [
    {
     "data": {
      "text/plain": [
       "['cook creates complicated dish',\n",
       " ' experienced chef prepares complicated dish',\n",
       " 'skilful programmer creates code',\n",
       " ' devoted hacker writes code',\n",
       " 'skilful cook creates meal',\n",
       " ' devoted hacker creates complicated code',\n",
       " 'hacker writes code',\n",
       " ' skilful hacker creates code',\n",
       " 'devoted hacker writes code',\n",
       " ' hacker writes complicated code']"
      ]
     },
     "execution_count": 39,
     "metadata": {},
     "output_type": "execute_result"
    }
   ],
   "source": [
    "train_data[:10]"
   ]
  },
  {
   "cell_type": "code",
   "execution_count": 40,
   "metadata": {},
   "outputs": [
    {
     "data": {
      "text/plain": [
       "[[1, 0],\n",
       " [1, 0],\n",
       " [0, 1],\n",
       " [1, 0],\n",
       " [1, 0],\n",
       " [1, 0],\n",
       " [1, 0],\n",
       " [1, 0],\n",
       " [1, 0],\n",
       " [0, 1],\n",
       " [0, 1],\n",
       " [0, 1],\n",
       " [0, 1],\n",
       " [1, 0],\n",
       " [0, 1]]"
      ]
     },
     "execution_count": 40,
     "metadata": {},
     "output_type": "execute_result"
    }
   ],
   "source": [
    "train_targets"
   ]
  },
  {
   "cell_type": "code",
   "execution_count": 41,
   "metadata": {},
   "outputs": [
    {
     "data": {
      "image/png": "[encoded data removed]",
      "text/plain": [
       "<Figure size 576x288 with 1 Axes>"
      ]
     },
     "metadata": {},
     "output_type": "display_data"
    }
   ],
   "source": [
    "# Parse sentences to diagrams\n",
    "\n",
    "parser = BobcatParser(verbose='suppress')\n",
    "train_diagrams = parser.sentences2diagrams(train_data)\n",
    "test_diagrams = parser.sentences2diagrams(test_data)\n",
    "\n",
    "train_diagrams[0].draw(figsize=(8,4), fontsize=13)"
   ]
  },
  {
   "cell_type": "code",
   "execution_count": 43,
   "metadata": {},
   "outputs": [
    {
     "ename": "NameError",
     "evalue": "name 'NumpyModel' is not defined",
     "output_type": "error",
     "traceback": [
      "\u001b[0;31m---------------------------------------------------------------------------\u001b[0m",
      "\u001b[0;31mNameError\u001b[0m                                 Traceback (most recent call last)",
      "\u001b[1;32m/home/maria/Quantum-Natural-Language-Processing-with-lambeq---Quantinuum/Task5/training-usecase.ipynb Cell 6\u001b[0m in \u001b[0;36m<cell line: 2>\u001b[0;34m()\u001b[0m\n\u001b[1;32m      <a href='vscode-notebook-cell:/home/maria/Quantum-Natural-Language-Processing-with-lambeq---Quantinuum/Task5/training-usecase.ipynb#W6sZmlsZQ%3D%3D?line=0'>1</a>\u001b[0m \u001b[39m#Compare diagrams\u001b[39;00m\n\u001b[0;32m----> <a href='vscode-notebook-cell:/home/maria/Quantum-Natural-Language-Processing-with-lambeq---Quantinuum/Task5/training-usecase.ipynb#W6sZmlsZQ%3D%3D?line=1'>2</a>\u001b[0m \u001b[39mclass\u001b[39;00m \u001b[39mBinaryModel\u001b[39;00m(NumpyModel):\n\u001b[1;32m      <a href='vscode-notebook-cell:/home/maria/Quantum-Natural-Language-Processing-with-lambeq---Quantinuum/Task5/training-usecase.ipynb#W6sZmlsZQ%3D%3D?line=3'>4</a>\u001b[0m     \u001b[39mdef\u001b[39;00m \u001b[39m__init__\u001b[39m(\u001b[39mself\u001b[39m, use_jit: \u001b[39mbool\u001b[39m \u001b[39m=\u001b[39m \u001b[39mFalse\u001b[39;00m, \u001b[39m*\u001b[39m\u001b[39m*\u001b[39mkwargs) \u001b[39m-\u001b[39m\u001b[39m>\u001b[39m \u001b[39mNone\u001b[39;00m:\n\u001b[1;32m      <a href='vscode-notebook-cell:/home/maria/Quantum-Natural-Language-Processing-with-lambeq---Quantinuum/Task5/training-usecase.ipynb#W6sZmlsZQ%3D%3D?line=4'>5</a>\u001b[0m         \u001b[39msuper\u001b[39m()\u001b[39m.\u001b[39m\u001b[39m__init__\u001b[39m()\n",
      "\u001b[0;31mNameError\u001b[0m: name 'NumpyModel' is not defined"
     ]
    }
   ],
   "source": [
    "#Compare diagrams\n",
    "class BinaryModel(NumpyModel):\n",
    "\n",
    "    def __init__(self, use_jit: bool = False, **kwargs) -> None:\n",
    "        super().__init__()\n",
    "        self.use_jit = use_jit\n",
    "        self.lambdas: dict[Diagram, Callable] = {}\n",
    "\n",
    "    def from_diagrams(cls,\n",
    "                      diagrams: list[Diagram],\n",
    "                      use_jit: bool = False,\n",
    "                      **kwargs) -> NumpyModel:\n",
    "\n",
    "        model = cls(use_jit=use_jit, **kwargs)\n",
    "        model.symbols = sorted(\n",
    "            {sym for circ in diagrams for sym in circ.free_symbols},\n",
    "            key=default_sort_key)\n",
    "        return model\n",
    "\n",
    "\n",
    "    def _get_lambda(self, diagram: Diagram) -> Callable[[Any], Any]:\n",
    "\n",
    "        from jax import jit\n",
    "        if not self.symbols:\n",
    "            raise ValueError('Symbols not initialised. Instantiate through '\n",
    "                             '`NumpyModel.from_diagrams()`.')\n",
    "        if diagram in self.lambdas:\n",
    "            return self.lambdas[diagram]\n",
    "\n",
    "        def diagram_output(*x):\n",
    "            with Tensor.backend('jax'), tn.DefaultBackend('jax'):\n",
    "                sub_circuit = self._fast_subs([diagram], x)[0]\n",
    "                result = tn.contractors.auto(*sub_circuit.to_tn()).tensor\n",
    "                # square amplitudes to get probabilties for pure circuits\n",
    "                if not sub_circuit.is_mixed:\n",
    "                    result = Tensor.get_backend().abs(result) ** 2\n",
    "                return self._normalise_vector(result)\n",
    "\n",
    "        self.lambdas[diagram] = jit(diagram_output)\n",
    "        return self.lambdas[diagram]\n",
    "\n",
    "    def _fast_subs(self,\n",
    "                   diagrams: list[Diagram],\n",
    "                   weights: SizedIterable) -> list[Diagram]:\n",
    "        \"\"\"Substitute weights into a list of parameterised circuit.\"\"\"\n",
    "        parameters = {k: v for k, v in zip(self.symbols, weights)}\n",
    "        diagrams = pickle.loads(pickle.dumps(diagrams))  # does fast deepcopy\n",
    "        for diagram in diagrams:\n",
    "            for b in diagram._boxes:\n",
    "                if b.free_symbols:\n",
    "                    while hasattr(b, 'controlled'):\n",
    "                        b._free_symbols = set()\n",
    "                        b = b.controlled\n",
    "                    syms, values = [], []\n",
    "                    for sym in b._free_symbols:\n",
    "                        syms.append(sym)\n",
    "                        try:\n",
    "                            values.append(parameters[sym])\n",
    "                        except KeyError:\n",
    "                            raise KeyError(f'Unknown symbol {sym!r}.')\n",
    "                    b._data = lambdify(syms, b._data)(*values)\n",
    "                    b.drawing_name = b.name\n",
    "                    b._free_symbols = set()\n",
    "                    if hasattr(b, '_phase'):\n",
    "                        b._phase = b._data\n",
    "        return diagrams\n",
    "\n",
    "    def get_diagram_output(self, diagrams: list[Diagram]) -> numpy.ndarray:\n",
    "        if len(self.weights) == 0 or not self.symbols:\n",
    "            raise ValueError('Weights and/or symbols not initialised. '\n",
    "                             'Instantiate through '\n",
    "                             '`NumpyModel.from_diagrams()` first, '\n",
    "                             'then call `initialise_weights()`, or load '\n",
    "                             'from pre-trained checkpoint.')\n",
    "\n",
    "        if self.use_jit:\n",
    "            lambdified_diagrams = [self._get_lambda(d) for d in diagrams]\n",
    "            return numpy.array([diag_f(*self.weights)\n",
    "                                for diag_f in lambdified_diagrams])\n",
    "\n",
    "        diagrams = self._fast_subs(diagrams, self.weights)\n",
    "        with Tensor.backend('numpy'):\n",
    "            results = []\n",
    "            for d in diagrams:\n",
    "                result = tn.contractors.auto(*d.to_tn()).tensor\n",
    "                # square amplitudes to get probabilties for pure circuits\n",
    "                if not d.is_mixed:\n",
    "                    result = numpy.abs(result) ** 2\n",
    "                results.append(self._normalise_vector(result))\n",
    "            return numpy.array(results)\n",
    "\n",
    "    def forward(self, x: list[Diagram]) -> Any:\n",
    "        \n",
    "        return self.get_diagram_output(x)\n"
   ]
  }
 ],
 "metadata": {
  "kernelspec": {
   "display_name": "Python 3.10.4 64-bit",
   "language": "python",
   "name": "python3"
  },
  "language_info": {
   "codemirror_mode": {
    "name": "ipython",
    "version": 3
   },
   "file_extension": ".py",
   "mimetype": "text/x-python",
   "name": "python",
   "nbconvert_exporter": "python",
   "pygments_lexer": "ipython3",
   "version": "3.10.4"
  },
  "vscode": {
   "interpreter": {
    "hash": "e7370f93d1d0cde622a1f8e1c04877d8463912d04d973331ad4851f04de6915a"
   }
  }
 },
 "nbformat": 4,
 "nbformat_minor": 4
}
